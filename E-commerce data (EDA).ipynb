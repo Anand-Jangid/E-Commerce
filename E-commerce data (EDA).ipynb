{
 "cells": [
  {
   "cell_type": "markdown",
   "id": "a634cf72",
   "metadata": {},
   "source": [
    "# Importing essential libraries"
   ]
  },
  {
   "cell_type": "code",
   "execution_count": 1,
   "id": "d847ae3c",
   "metadata": {},
   "outputs": [],
   "source": [
    "import pandas as pd\n",
    "import numpy as np\n",
    "import matplotlib.pyplot as plt\n"
   ]
  },
  {
   "cell_type": "code",
   "execution_count": 2,
   "id": "0ccd9210",
   "metadata": {},
   "outputs": [],
   "source": [
    "file_path='D:\\data\\FashionDataset.csv'\n",
    "data=pd.read_csv(file_path)"
   ]
  },
  {
   "cell_type": "markdown",
   "id": "0f0de0f6",
   "metadata": {},
   "source": [
    "# Reading file"
   ]
  },
  {
   "cell_type": "code",
   "execution_count": 3,
   "id": "3f014813",
   "metadata": {
    "scrolled": true
   },
   "outputs": [
    {
     "data": {
      "text/html": [
       "<div>\n",
       "<style scoped>\n",
       "    .dataframe tbody tr th:only-of-type {\n",
       "        vertical-align: middle;\n",
       "    }\n",
       "\n",
       "    .dataframe tbody tr th {\n",
       "        vertical-align: top;\n",
       "    }\n",
       "\n",
       "    .dataframe thead th {\n",
       "        text-align: right;\n",
       "    }\n",
       "</style>\n",
       "<table border=\"1\" class=\"dataframe\">\n",
       "  <thead>\n",
       "    <tr style=\"text-align: right;\">\n",
       "      <th></th>\n",
       "      <th>Unnamed: 0</th>\n",
       "      <th>BrandName</th>\n",
       "      <th>Deatils</th>\n",
       "      <th>Sizes</th>\n",
       "      <th>MRP</th>\n",
       "      <th>SellPrice</th>\n",
       "      <th>Discount</th>\n",
       "      <th>Category</th>\n",
       "    </tr>\n",
       "  </thead>\n",
       "  <tbody>\n",
       "    <tr>\n",
       "      <th>0</th>\n",
       "      <td>0</td>\n",
       "      <td>life</td>\n",
       "      <td>solid cotton blend collar neck womens a-line d...</td>\n",
       "      <td>Size:Large,Medium,Small,X-Large,X-Small</td>\n",
       "      <td>Rs\\n1699</td>\n",
       "      <td>849</td>\n",
       "      <td>50% off</td>\n",
       "      <td>Westernwear-Women</td>\n",
       "    </tr>\n",
       "    <tr>\n",
       "      <th>1</th>\n",
       "      <td>1</td>\n",
       "      <td>only</td>\n",
       "      <td>polyester peter pan collar womens blouson dres...</td>\n",
       "      <td>Size:34,36,38,40</td>\n",
       "      <td>Rs\\n3499</td>\n",
       "      <td>2449</td>\n",
       "      <td>30% off</td>\n",
       "      <td>Westernwear-Women</td>\n",
       "    </tr>\n",
       "    <tr>\n",
       "      <th>2</th>\n",
       "      <td>2</td>\n",
       "      <td>fratini</td>\n",
       "      <td>solid polyester blend wide neck womens regular...</td>\n",
       "      <td>Size:Large,X-Large,XX-Large</td>\n",
       "      <td>Rs\\n1199</td>\n",
       "      <td>599</td>\n",
       "      <td>50% off</td>\n",
       "      <td>Westernwear-Women</td>\n",
       "    </tr>\n",
       "    <tr>\n",
       "      <th>3</th>\n",
       "      <td>3</td>\n",
       "      <td>zink london</td>\n",
       "      <td>stripes polyester sweetheart neck womens dress...</td>\n",
       "      <td>Size:Large,Medium,Small,X-Large</td>\n",
       "      <td>Rs\\n2299</td>\n",
       "      <td>1379</td>\n",
       "      <td>40% off</td>\n",
       "      <td>Westernwear-Women</td>\n",
       "    </tr>\n",
       "    <tr>\n",
       "      <th>4</th>\n",
       "      <td>4</td>\n",
       "      <td>life</td>\n",
       "      <td>regular fit regular length denim womens jeans ...</td>\n",
       "      <td>Size:26,28,30,32,34,36</td>\n",
       "      <td>Rs\\n1699</td>\n",
       "      <td>849</td>\n",
       "      <td>50% off</td>\n",
       "      <td>Westernwear-Women</td>\n",
       "    </tr>\n",
       "  </tbody>\n",
       "</table>\n",
       "</div>"
      ],
      "text/plain": [
       "   Unnamed: 0    BrandName                                            Deatils  \\\n",
       "0           0         life  solid cotton blend collar neck womens a-line d...   \n",
       "1           1         only  polyester peter pan collar womens blouson dres...   \n",
       "2           2      fratini  solid polyester blend wide neck womens regular...   \n",
       "3           3  zink london  stripes polyester sweetheart neck womens dress...   \n",
       "4           4         life  regular fit regular length denim womens jeans ...   \n",
       "\n",
       "                                     Sizes       MRP SellPrice Discount  \\\n",
       "0  Size:Large,Medium,Small,X-Large,X-Small  Rs\\n1699       849  50% off   \n",
       "1                         Size:34,36,38,40  Rs\\n3499      2449  30% off   \n",
       "2              Size:Large,X-Large,XX-Large  Rs\\n1199       599  50% off   \n",
       "3          Size:Large,Medium,Small,X-Large  Rs\\n2299      1379  40% off   \n",
       "4                   Size:26,28,30,32,34,36  Rs\\n1699       849  50% off   \n",
       "\n",
       "            Category  \n",
       "0  Westernwear-Women  \n",
       "1  Westernwear-Women  \n",
       "2  Westernwear-Women  \n",
       "3  Westernwear-Women  \n",
       "4  Westernwear-Women  "
      ]
     },
     "execution_count": 3,
     "metadata": {},
     "output_type": "execute_result"
    }
   ],
   "source": [
    "data.head()"
   ]
  },
  {
   "cell_type": "code",
   "execution_count": 4,
   "id": "ff9e595f",
   "metadata": {},
   "outputs": [
    {
     "name": "stdout",
     "output_type": "stream",
     "text": [
      "<class 'pandas.core.frame.DataFrame'>\n",
      "RangeIndex: 30758 entries, 0 to 30757\n",
      "Data columns (total 8 columns):\n",
      " #   Column      Non-Null Count  Dtype \n",
      "---  ------      --------------  ----- \n",
      " 0   Unnamed: 0  30758 non-null  int64 \n",
      " 1   BrandName   30758 non-null  object\n",
      " 2   Deatils     30758 non-null  object\n",
      " 3   Sizes       30758 non-null  object\n",
      " 4   MRP         30758 non-null  object\n",
      " 5   SellPrice   30758 non-null  object\n",
      " 6   Discount    30758 non-null  object\n",
      " 7   Category    30758 non-null  object\n",
      "dtypes: int64(1), object(7)\n",
      "memory usage: 1.9+ MB\n"
     ]
    }
   ],
   "source": [
    "data.info()\n"
   ]
  },
  {
   "cell_type": "markdown",
   "id": "56ed5b35",
   "metadata": {},
   "source": [
    "# Converting  MRP column"
   ]
  },
  {
   "cell_type": "code",
   "execution_count": 5,
   "id": "e2453f46",
   "metadata": {},
   "outputs": [],
   "source": [
    "data[\"MRP\"]=data['MRP'].apply(lambda x: x[4:])"
   ]
  },
  {
   "cell_type": "code",
   "execution_count": 6,
   "id": "38b916bc",
   "metadata": {},
   "outputs": [
    {
     "data": {
      "text/html": [
       "<div>\n",
       "<style scoped>\n",
       "    .dataframe tbody tr th:only-of-type {\n",
       "        vertical-align: middle;\n",
       "    }\n",
       "\n",
       "    .dataframe tbody tr th {\n",
       "        vertical-align: top;\n",
       "    }\n",
       "\n",
       "    .dataframe thead th {\n",
       "        text-align: right;\n",
       "    }\n",
       "</style>\n",
       "<table border=\"1\" class=\"dataframe\">\n",
       "  <thead>\n",
       "    <tr style=\"text-align: right;\">\n",
       "      <th></th>\n",
       "      <th>Unnamed: 0</th>\n",
       "      <th>BrandName</th>\n",
       "      <th>Deatils</th>\n",
       "      <th>Sizes</th>\n",
       "      <th>MRP</th>\n",
       "      <th>SellPrice</th>\n",
       "      <th>Discount</th>\n",
       "      <th>Category</th>\n",
       "    </tr>\n",
       "  </thead>\n",
       "  <tbody>\n",
       "    <tr>\n",
       "      <th>0</th>\n",
       "      <td>0</td>\n",
       "      <td>life</td>\n",
       "      <td>solid cotton blend collar neck womens a-line d...</td>\n",
       "      <td>Size:Large,Medium,Small,X-Large,X-Small</td>\n",
       "      <td>699</td>\n",
       "      <td>849</td>\n",
       "      <td>50% off</td>\n",
       "      <td>Westernwear-Women</td>\n",
       "    </tr>\n",
       "    <tr>\n",
       "      <th>1</th>\n",
       "      <td>1</td>\n",
       "      <td>only</td>\n",
       "      <td>polyester peter pan collar womens blouson dres...</td>\n",
       "      <td>Size:34,36,38,40</td>\n",
       "      <td>499</td>\n",
       "      <td>2449</td>\n",
       "      <td>30% off</td>\n",
       "      <td>Westernwear-Women</td>\n",
       "    </tr>\n",
       "    <tr>\n",
       "      <th>2</th>\n",
       "      <td>2</td>\n",
       "      <td>fratini</td>\n",
       "      <td>solid polyester blend wide neck womens regular...</td>\n",
       "      <td>Size:Large,X-Large,XX-Large</td>\n",
       "      <td>199</td>\n",
       "      <td>599</td>\n",
       "      <td>50% off</td>\n",
       "      <td>Westernwear-Women</td>\n",
       "    </tr>\n",
       "    <tr>\n",
       "      <th>3</th>\n",
       "      <td>3</td>\n",
       "      <td>zink london</td>\n",
       "      <td>stripes polyester sweetheart neck womens dress...</td>\n",
       "      <td>Size:Large,Medium,Small,X-Large</td>\n",
       "      <td>299</td>\n",
       "      <td>1379</td>\n",
       "      <td>40% off</td>\n",
       "      <td>Westernwear-Women</td>\n",
       "    </tr>\n",
       "    <tr>\n",
       "      <th>4</th>\n",
       "      <td>4</td>\n",
       "      <td>life</td>\n",
       "      <td>regular fit regular length denim womens jeans ...</td>\n",
       "      <td>Size:26,28,30,32,34,36</td>\n",
       "      <td>699</td>\n",
       "      <td>849</td>\n",
       "      <td>50% off</td>\n",
       "      <td>Westernwear-Women</td>\n",
       "    </tr>\n",
       "  </tbody>\n",
       "</table>\n",
       "</div>"
      ],
      "text/plain": [
       "   Unnamed: 0    BrandName                                            Deatils  \\\n",
       "0           0         life  solid cotton blend collar neck womens a-line d...   \n",
       "1           1         only  polyester peter pan collar womens blouson dres...   \n",
       "2           2      fratini  solid polyester blend wide neck womens regular...   \n",
       "3           3  zink london  stripes polyester sweetheart neck womens dress...   \n",
       "4           4         life  regular fit regular length denim womens jeans ...   \n",
       "\n",
       "                                     Sizes  MRP SellPrice Discount  \\\n",
       "0  Size:Large,Medium,Small,X-Large,X-Small  699       849  50% off   \n",
       "1                         Size:34,36,38,40  499      2449  30% off   \n",
       "2              Size:Large,X-Large,XX-Large  199       599  50% off   \n",
       "3          Size:Large,Medium,Small,X-Large  299      1379  40% off   \n",
       "4                   Size:26,28,30,32,34,36  699       849  50% off   \n",
       "\n",
       "            Category  \n",
       "0  Westernwear-Women  \n",
       "1  Westernwear-Women  \n",
       "2  Westernwear-Women  \n",
       "3  Westernwear-Women  \n",
       "4  Westernwear-Women  "
      ]
     },
     "execution_count": 6,
     "metadata": {},
     "output_type": "execute_result"
    }
   ],
   "source": [
    "data.head()"
   ]
  },
  {
   "cell_type": "code",
   "execution_count": 7,
   "id": "985d2893",
   "metadata": {},
   "outputs": [
    {
     "data": {
      "text/plain": [
       "array(['699', '499', '199', '299', '795', '099', '99', '999', '', '799',\n",
       "       '890', '490', '899', '399', '599', '590', '800', '995', '695',\n",
       "       '600', '595', '895', '290', '400', '198', '90', '900', '950',\n",
       "       '300', '100', '095', '790', '084', '294', '190', '298', '200',\n",
       "       '49', '000', '390', '990', '700', '894', '494', '998', '694',\n",
       "       '500', '495', '450', '398', '594', '698', '395', '349', '750',\n",
       "       '898', '39', '049', '194', '295', '880', '650', '094', '449', '20',\n",
       "       '150', '690', '498', '250', '249', '048', '549', '980', '120',\n",
       "       '098', '090', '195', '37', '845', '50', '149', '850', '98', '560',\n",
       "       '350', '69', '870', '855', '649', '394', '040', '520', '949', '29',\n",
       "       '982', '437', '213', '468', '010', '847', '377', '987', '430',\n",
       "       '077', '536', '233', '523', '621', '458', '435', '646', '970',\n",
       "       '258', '785', '579', '842', '007', '329', '893', '553', '712',\n",
       "       '059', '151', '485', '598', '737', '719', '602', '367', '607',\n",
       "       '379', '471', '576', '138', '358', '867', '993', '002', '089',\n",
       "       '339', '752', '859', '179', '565', '727', '877', '269', '839',\n",
       "       '753', '798', '302', '583', '903', '511', '020', '868', '837',\n",
       "       '389', '197', '459', '277', '127', '519', '333', '857', '327',\n",
       "       '217', '087', '383', '849', '139', '552', '749', '212', '912',\n",
       "       '178', '137', '475', '577', '675', '943', '448', '027', '528',\n",
       "       '001', '663', '974', '470', '105', '985', '289', '162', '142',\n",
       "       '531', '557', '550', '055', '507', '347', '643', '729', '616',\n",
       "       '387', '112', '951', '469', '853', '666', '443', '106', '648',\n",
       "       '227', '733', '019', '343', '526', '952', '307', '874', '373',\n",
       "       '677', '734', '701', '619', '021', '229', '913', '030', '107',\n",
       "       '406', '641', '447', '388', '503', '396', '934', '964', '304',\n",
       "       '888', '568', '902', '971', '012', '215', '067', '238', '446',\n",
       "       '956', '438', '047', '132', '057', '933', '610', '779', '571',\n",
       "       '538', '303', '060', '051', '420', '169', '301', '983', '919',\n",
       "       '325', '824', '044', '278', '336', '978', '124', '427', '645',\n",
       "       '529', '542', '111', '559', '819', '762', '063', '931', '029',\n",
       "       '433', '632', '556', '844', '263', '492', '489', '5999', '364',\n",
       "       '321', '547', '667', '739', '279', '683', '234', '555', '513',\n",
       "       '626', '245', '140', '797', '232', '046', '356', '145', '117',\n",
       "       '252', '545', '457', '376', '812', '869', '915', '879', '037',\n",
       "       '953', '811', '248', '214', '497', '512', '669', '935', '647',\n",
       "       '697', '293', '413', '546', '505', '211', '018', '901', '776',\n",
       "       '439', '575', '897', '353', '763', '922', '992', '927', '455',\n",
       "       '775', '957', '477', '392', '747', '917', '709', '959', '563',\n",
       "       '157', '110', '761', '013', '397', '133', '6999', '783', '180',\n",
       "       '370', '765', '501', '828', '887', '088', '703', '562', '125',\n",
       "       '580', '429', '805', '360', '033', '408', '840', '159', '692',\n",
       "       '414', '997', '537', '272', '404', '052', '967', '516', '135',\n",
       "       '567', '079', '219', '332', '024', '417', '039', '627', '068',\n",
       "       '043', '848', '781', '069', '674', '767', '991', '822', '118',\n",
       "       '885', '945', '803', '860', '038', '623', '042', '103', '173',\n",
       "       '335', '203', '260', '058', '181', '535', '285', '510', '715',\n",
       "       '830', '637', '023', '609', '755', '045', '955', '713', '129',\n",
       "       '296', '808', '680', '801', '796', '36', '617', '725', '297',\n",
       "       '170', '708', '509', '938', '202', '85', '58', '42', '09', '79',\n",
       "       '05', '59', '95', '44', '00', '71', '68', '41', '70', '45', '19',\n",
       "       '14', '130', '80', '640', '230', '40', '25', '10', '533', '369',\n",
       "       '530', '758', '480', '080', '60', '050', '270', '280', '570',\n",
       "       '085', '380', '92', '94', '965', '466', '2495', '2995', '1995',\n",
       "       '8495', '3495', '0495', '0750', '2699', '3500', '1990', '4590',\n",
       "       '0995', '0990', '4495', '0500', '3990', '4295', '1590', '4995',\n",
       "       '5995', '6495', '5290', '0599', '3290', '2990', '1250', '4900',\n",
       "       '8500', '2000', '4490', '745', '1500', '6199', '9995', '6995',\n",
       "       '0999', '0950', '4799', '7995', '9795', '7500', '3995', '0195',\n",
       "       '0790', '3999', '1790', '0100', '3590', '2500', '1900', '0900',\n",
       "       '9900', '0095', '3790', '1750', '4990', '0550', '1290', '2999',\n",
       "       '0450', '5495', '975', '3900', '7900', '6500', '9495', '2395',\n",
       "       '2390', '1795', '1395', '0200', '1295', '7295', '0395', '1700',\n",
       "       '0590', '2499', '2250', '1595', '9500', '0295', '2900', '0890',\n",
       "       '3250', '5900', '0490', '8995', '1495', '075', '196', '419', '48',\n",
       "       '7300', '16', '2100', '596', '4500', '96', '1300', '8000'],\n",
       "      dtype=object)"
      ]
     },
     "execution_count": 7,
     "metadata": {},
     "output_type": "execute_result"
    }
   ],
   "source": [
    "data[\"MRP\"].unique()"
   ]
  },
  {
   "cell_type": "code",
   "execution_count": 8,
   "id": "0cb51df8",
   "metadata": {},
   "outputs": [],
   "source": [
    "data.loc[data['MRP']=='','MRP']='0'"
   ]
  },
  {
   "cell_type": "markdown",
   "id": "3cae9781",
   "metadata": {},
   "source": [
    "## Converting MRP datatype to integer value"
   ]
  },
  {
   "cell_type": "code",
   "execution_count": 9,
   "id": "7b3d762e",
   "metadata": {},
   "outputs": [],
   "source": [
    "data['MRP']=data['MRP'].astype('int64')"
   ]
  },
  {
   "cell_type": "code",
   "execution_count": 10,
   "id": "c582d1ec",
   "metadata": {},
   "outputs": [
    {
     "data": {
      "text/plain": [
       "dtype('int64')"
      ]
     },
     "execution_count": 10,
     "metadata": {},
     "output_type": "execute_result"
    }
   ],
   "source": [
    "data['MRP'].dtypes"
   ]
  },
  {
   "cell_type": "markdown",
   "id": "fdc82891",
   "metadata": {},
   "source": [
    "## Replacing 0 with mean value"
   ]
  },
  {
   "cell_type": "code",
   "execution_count": 11,
   "id": "1a28b936",
   "metadata": {},
   "outputs": [],
   "source": [
    "mean_value=data[~(data['MRP']==0)]['MRP'].mean()"
   ]
  },
  {
   "cell_type": "code",
   "execution_count": 12,
   "id": "f66f7061",
   "metadata": {},
   "outputs": [
    {
     "data": {
      "text/plain": [
       "564.0141177518482"
      ]
     },
     "execution_count": 12,
     "metadata": {},
     "output_type": "execute_result"
    }
   ],
   "source": [
    "mean_value"
   ]
  },
  {
   "cell_type": "code",
   "execution_count": 13,
   "id": "fe9de84c",
   "metadata": {},
   "outputs": [],
   "source": [
    "data.loc[data['MRP']==0,'MRP']=mean_value"
   ]
  },
  {
   "cell_type": "code",
   "execution_count": 14,
   "id": "e0c813ad",
   "metadata": {},
   "outputs": [
    {
     "data": {
      "text/html": [
       "<div>\n",
       "<style scoped>\n",
       "    .dataframe tbody tr th:only-of-type {\n",
       "        vertical-align: middle;\n",
       "    }\n",
       "\n",
       "    .dataframe tbody tr th {\n",
       "        vertical-align: top;\n",
       "    }\n",
       "\n",
       "    .dataframe thead th {\n",
       "        text-align: right;\n",
       "    }\n",
       "</style>\n",
       "<table border=\"1\" class=\"dataframe\">\n",
       "  <thead>\n",
       "    <tr style=\"text-align: right;\">\n",
       "      <th></th>\n",
       "      <th>Unnamed: 0</th>\n",
       "      <th>BrandName</th>\n",
       "      <th>Deatils</th>\n",
       "      <th>Sizes</th>\n",
       "      <th>MRP</th>\n",
       "      <th>SellPrice</th>\n",
       "      <th>Discount</th>\n",
       "      <th>Category</th>\n",
       "    </tr>\n",
       "  </thead>\n",
       "  <tbody>\n",
       "  </tbody>\n",
       "</table>\n",
       "</div>"
      ],
      "text/plain": [
       "Empty DataFrame\n",
       "Columns: [Unnamed: 0, BrandName, Deatils, Sizes, MRP, SellPrice, Discount, Category]\n",
       "Index: []"
      ]
     },
     "execution_count": 14,
     "metadata": {},
     "output_type": "execute_result"
    }
   ],
   "source": [
    "data[data['MRP']==0]"
   ]
  },
  {
   "cell_type": "markdown",
   "id": "eb83b060",
   "metadata": {},
   "source": [
    "## 0 values has been replaced"
   ]
  },
  {
   "cell_type": "code",
   "execution_count": 15,
   "id": "d7023e8e",
   "metadata": {},
   "outputs": [
    {
     "data": {
      "text/html": [
       "<div>\n",
       "<style scoped>\n",
       "    .dataframe tbody tr th:only-of-type {\n",
       "        vertical-align: middle;\n",
       "    }\n",
       "\n",
       "    .dataframe tbody tr th {\n",
       "        vertical-align: top;\n",
       "    }\n",
       "\n",
       "    .dataframe thead th {\n",
       "        text-align: right;\n",
       "    }\n",
       "</style>\n",
       "<table border=\"1\" class=\"dataframe\">\n",
       "  <thead>\n",
       "    <tr style=\"text-align: right;\">\n",
       "      <th></th>\n",
       "      <th>Unnamed: 0</th>\n",
       "      <th>BrandName</th>\n",
       "      <th>Deatils</th>\n",
       "      <th>Sizes</th>\n",
       "      <th>MRP</th>\n",
       "      <th>SellPrice</th>\n",
       "      <th>Discount</th>\n",
       "      <th>Category</th>\n",
       "    </tr>\n",
       "  </thead>\n",
       "  <tbody>\n",
       "    <tr>\n",
       "      <th>0</th>\n",
       "      <td>0</td>\n",
       "      <td>life</td>\n",
       "      <td>solid cotton blend collar neck womens a-line d...</td>\n",
       "      <td>Size:Large,Medium,Small,X-Large,X-Small</td>\n",
       "      <td>699.0</td>\n",
       "      <td>849</td>\n",
       "      <td>50% off</td>\n",
       "      <td>Westernwear-Women</td>\n",
       "    </tr>\n",
       "    <tr>\n",
       "      <th>1</th>\n",
       "      <td>1</td>\n",
       "      <td>only</td>\n",
       "      <td>polyester peter pan collar womens blouson dres...</td>\n",
       "      <td>Size:34,36,38,40</td>\n",
       "      <td>499.0</td>\n",
       "      <td>2449</td>\n",
       "      <td>30% off</td>\n",
       "      <td>Westernwear-Women</td>\n",
       "    </tr>\n",
       "    <tr>\n",
       "      <th>2</th>\n",
       "      <td>2</td>\n",
       "      <td>fratini</td>\n",
       "      <td>solid polyester blend wide neck womens regular...</td>\n",
       "      <td>Size:Large,X-Large,XX-Large</td>\n",
       "      <td>199.0</td>\n",
       "      <td>599</td>\n",
       "      <td>50% off</td>\n",
       "      <td>Westernwear-Women</td>\n",
       "    </tr>\n",
       "    <tr>\n",
       "      <th>3</th>\n",
       "      <td>3</td>\n",
       "      <td>zink london</td>\n",
       "      <td>stripes polyester sweetheart neck womens dress...</td>\n",
       "      <td>Size:Large,Medium,Small,X-Large</td>\n",
       "      <td>299.0</td>\n",
       "      <td>1379</td>\n",
       "      <td>40% off</td>\n",
       "      <td>Westernwear-Women</td>\n",
       "    </tr>\n",
       "    <tr>\n",
       "      <th>4</th>\n",
       "      <td>4</td>\n",
       "      <td>life</td>\n",
       "      <td>regular fit regular length denim womens jeans ...</td>\n",
       "      <td>Size:26,28,30,32,34,36</td>\n",
       "      <td>699.0</td>\n",
       "      <td>849</td>\n",
       "      <td>50% off</td>\n",
       "      <td>Westernwear-Women</td>\n",
       "    </tr>\n",
       "  </tbody>\n",
       "</table>\n",
       "</div>"
      ],
      "text/plain": [
       "   Unnamed: 0    BrandName                                            Deatils  \\\n",
       "0           0         life  solid cotton blend collar neck womens a-line d...   \n",
       "1           1         only  polyester peter pan collar womens blouson dres...   \n",
       "2           2      fratini  solid polyester blend wide neck womens regular...   \n",
       "3           3  zink london  stripes polyester sweetheart neck womens dress...   \n",
       "4           4         life  regular fit regular length denim womens jeans ...   \n",
       "\n",
       "                                     Sizes    MRP SellPrice Discount  \\\n",
       "0  Size:Large,Medium,Small,X-Large,X-Small  699.0       849  50% off   \n",
       "1                         Size:34,36,38,40  499.0      2449  30% off   \n",
       "2              Size:Large,X-Large,XX-Large  199.0       599  50% off   \n",
       "3          Size:Large,Medium,Small,X-Large  299.0      1379  40% off   \n",
       "4                   Size:26,28,30,32,34,36  699.0       849  50% off   \n",
       "\n",
       "            Category  \n",
       "0  Westernwear-Women  \n",
       "1  Westernwear-Women  \n",
       "2  Westernwear-Women  \n",
       "3  Westernwear-Women  \n",
       "4  Westernwear-Women  "
      ]
     },
     "execution_count": 15,
     "metadata": {},
     "output_type": "execute_result"
    }
   ],
   "source": [
    "data.head()"
   ]
  },
  {
   "cell_type": "code",
   "execution_count": 16,
   "id": "b41e7539",
   "metadata": {},
   "outputs": [
    {
     "data": {
      "text/plain": [
       "array(['50% off', '30% off', '40% off', '10% off', '60% off', 'Nan',\n",
       "       '20% off', '41% off', '55% off', '73% off', '69% off', '47% off',\n",
       "       '57% off', '70% off', '67% off', '33% off', '44% off', '35% off',\n",
       "       '45% off', '65% off', '68% off', '17% off', '78% off', '25% off',\n",
       "       '80% off', '64% off', '63% off', '32% off', '58% off', '26% off',\n",
       "       '71% off', '75% off', '79% off', '61% off', '24% off', '62% off',\n",
       "       '38% off', '43% off', '54% off', '23% off', '27% off', '42% off',\n",
       "       '76% off', '72% off', '53% off', '12% off', '74% off', '56% off',\n",
       "       '22% off', '66% off', '39% off', '15% off', '34% off', '85% off',\n",
       "       '5% off', '77% off', '4% off', '51% off', '37% off', '48% off',\n",
       "       '0% off', '52% off', '29% off', '28% off', '36% off', '31% off'],\n",
       "      dtype=object)"
      ]
     },
     "execution_count": 16,
     "metadata": {},
     "output_type": "execute_result"
    }
   ],
   "source": [
    "data['Discount'].unique()"
   ]
  },
  {
   "cell_type": "markdown",
   "id": "4e0abda0",
   "metadata": {},
   "source": [
    "## Replacing Nan in 'Discount' coulmn to 0% off"
   ]
  },
  {
   "cell_type": "code",
   "execution_count": 17,
   "id": "115e44fe",
   "metadata": {},
   "outputs": [],
   "source": [
    "data.loc[data['Discount']=='Nan','Discount']='0% off'"
   ]
  },
  {
   "cell_type": "code",
   "execution_count": 18,
   "id": "103b5d21",
   "metadata": {},
   "outputs": [
    {
     "data": {
      "text/plain": [
       "array(['50% off', '30% off', '40% off', '10% off', '60% off', '0% off',\n",
       "       '20% off', '41% off', '55% off', '73% off', '69% off', '47% off',\n",
       "       '57% off', '70% off', '67% off', '33% off', '44% off', '35% off',\n",
       "       '45% off', '65% off', '68% off', '17% off', '78% off', '25% off',\n",
       "       '80% off', '64% off', '63% off', '32% off', '58% off', '26% off',\n",
       "       '71% off', '75% off', '79% off', '61% off', '24% off', '62% off',\n",
       "       '38% off', '43% off', '54% off', '23% off', '27% off', '42% off',\n",
       "       '76% off', '72% off', '53% off', '12% off', '74% off', '56% off',\n",
       "       '22% off', '66% off', '39% off', '15% off', '34% off', '85% off',\n",
       "       '5% off', '77% off', '4% off', '51% off', '37% off', '48% off',\n",
       "       '52% off', '29% off', '28% off', '36% off', '31% off'],\n",
       "      dtype=object)"
      ]
     },
     "execution_count": 18,
     "metadata": {},
     "output_type": "execute_result"
    }
   ],
   "source": [
    "data['Discount'].unique()"
   ]
  },
  {
   "cell_type": "code",
   "execution_count": 19,
   "id": "b8a9a8cf",
   "metadata": {},
   "outputs": [],
   "source": [
    "data['Disc']=data['Discount'].apply(lambda x: x[:-5])"
   ]
  },
  {
   "cell_type": "code",
   "execution_count": 20,
   "id": "ca2ad41b",
   "metadata": {},
   "outputs": [
    {
     "data": {
      "text/html": [
       "<div>\n",
       "<style scoped>\n",
       "    .dataframe tbody tr th:only-of-type {\n",
       "        vertical-align: middle;\n",
       "    }\n",
       "\n",
       "    .dataframe tbody tr th {\n",
       "        vertical-align: top;\n",
       "    }\n",
       "\n",
       "    .dataframe thead th {\n",
       "        text-align: right;\n",
       "    }\n",
       "</style>\n",
       "<table border=\"1\" class=\"dataframe\">\n",
       "  <thead>\n",
       "    <tr style=\"text-align: right;\">\n",
       "      <th></th>\n",
       "      <th>Unnamed: 0</th>\n",
       "      <th>BrandName</th>\n",
       "      <th>Deatils</th>\n",
       "      <th>Sizes</th>\n",
       "      <th>MRP</th>\n",
       "      <th>SellPrice</th>\n",
       "      <th>Discount</th>\n",
       "      <th>Category</th>\n",
       "      <th>Disc</th>\n",
       "    </tr>\n",
       "  </thead>\n",
       "  <tbody>\n",
       "    <tr>\n",
       "      <th>0</th>\n",
       "      <td>0</td>\n",
       "      <td>life</td>\n",
       "      <td>solid cotton blend collar neck womens a-line d...</td>\n",
       "      <td>Size:Large,Medium,Small,X-Large,X-Small</td>\n",
       "      <td>699.0</td>\n",
       "      <td>849</td>\n",
       "      <td>50% off</td>\n",
       "      <td>Westernwear-Women</td>\n",
       "      <td>50</td>\n",
       "    </tr>\n",
       "    <tr>\n",
       "      <th>1</th>\n",
       "      <td>1</td>\n",
       "      <td>only</td>\n",
       "      <td>polyester peter pan collar womens blouson dres...</td>\n",
       "      <td>Size:34,36,38,40</td>\n",
       "      <td>499.0</td>\n",
       "      <td>2449</td>\n",
       "      <td>30% off</td>\n",
       "      <td>Westernwear-Women</td>\n",
       "      <td>30</td>\n",
       "    </tr>\n",
       "    <tr>\n",
       "      <th>2</th>\n",
       "      <td>2</td>\n",
       "      <td>fratini</td>\n",
       "      <td>solid polyester blend wide neck womens regular...</td>\n",
       "      <td>Size:Large,X-Large,XX-Large</td>\n",
       "      <td>199.0</td>\n",
       "      <td>599</td>\n",
       "      <td>50% off</td>\n",
       "      <td>Westernwear-Women</td>\n",
       "      <td>50</td>\n",
       "    </tr>\n",
       "    <tr>\n",
       "      <th>3</th>\n",
       "      <td>3</td>\n",
       "      <td>zink london</td>\n",
       "      <td>stripes polyester sweetheart neck womens dress...</td>\n",
       "      <td>Size:Large,Medium,Small,X-Large</td>\n",
       "      <td>299.0</td>\n",
       "      <td>1379</td>\n",
       "      <td>40% off</td>\n",
       "      <td>Westernwear-Women</td>\n",
       "      <td>40</td>\n",
       "    </tr>\n",
       "    <tr>\n",
       "      <th>4</th>\n",
       "      <td>4</td>\n",
       "      <td>life</td>\n",
       "      <td>regular fit regular length denim womens jeans ...</td>\n",
       "      <td>Size:26,28,30,32,34,36</td>\n",
       "      <td>699.0</td>\n",
       "      <td>849</td>\n",
       "      <td>50% off</td>\n",
       "      <td>Westernwear-Women</td>\n",
       "      <td>50</td>\n",
       "    </tr>\n",
       "  </tbody>\n",
       "</table>\n",
       "</div>"
      ],
      "text/plain": [
       "   Unnamed: 0    BrandName                                            Deatils  \\\n",
       "0           0         life  solid cotton blend collar neck womens a-line d...   \n",
       "1           1         only  polyester peter pan collar womens blouson dres...   \n",
       "2           2      fratini  solid polyester blend wide neck womens regular...   \n",
       "3           3  zink london  stripes polyester sweetheart neck womens dress...   \n",
       "4           4         life  regular fit regular length denim womens jeans ...   \n",
       "\n",
       "                                     Sizes    MRP SellPrice Discount  \\\n",
       "0  Size:Large,Medium,Small,X-Large,X-Small  699.0       849  50% off   \n",
       "1                         Size:34,36,38,40  499.0      2449  30% off   \n",
       "2              Size:Large,X-Large,XX-Large  199.0       599  50% off   \n",
       "3          Size:Large,Medium,Small,X-Large  299.0      1379  40% off   \n",
       "4                   Size:26,28,30,32,34,36  699.0       849  50% off   \n",
       "\n",
       "            Category Disc  \n",
       "0  Westernwear-Women   50  \n",
       "1  Westernwear-Women   30  \n",
       "2  Westernwear-Women   50  \n",
       "3  Westernwear-Women   40  \n",
       "4  Westernwear-Women   50  "
      ]
     },
     "execution_count": 20,
     "metadata": {},
     "output_type": "execute_result"
    }
   ],
   "source": [
    "data.head()"
   ]
  },
  {
   "cell_type": "code",
   "execution_count": 21,
   "id": "81143ea5",
   "metadata": {},
   "outputs": [],
   "source": [
    "data['Disc']=data[\"Disc\"].astype(\"int64\")"
   ]
  },
  {
   "cell_type": "code",
   "execution_count": 22,
   "id": "a699447a",
   "metadata": {},
   "outputs": [
    {
     "data": {
      "text/plain": [
       "(30758, 9)"
      ]
     },
     "execution_count": 22,
     "metadata": {},
     "output_type": "execute_result"
    }
   ],
   "source": [
    "data.shape"
   ]
  },
  {
   "cell_type": "markdown",
   "id": "e522f252",
   "metadata": {},
   "source": [
    "## Converting SellPrice column"
   ]
  },
  {
   "cell_type": "code",
   "execution_count": 23,
   "id": "d286ca28",
   "metadata": {},
   "outputs": [
    {
     "ename": "KeyError",
     "evalue": "'Sell'",
     "output_type": "error",
     "traceback": [
      "\u001b[1;31m---------------------------------------------------------------------------\u001b[0m",
      "\u001b[1;31mKeyError\u001b[0m                                  Traceback (most recent call last)",
      "File \u001b[1;32m~\\anaconda3\\lib\\site-packages\\pandas\\core\\indexes\\base.py:3621\u001b[0m, in \u001b[0;36mIndex.get_loc\u001b[1;34m(self, key, method, tolerance)\u001b[0m\n\u001b[0;32m   3620\u001b[0m \u001b[38;5;28;01mtry\u001b[39;00m:\n\u001b[1;32m-> 3621\u001b[0m     \u001b[38;5;28;01mreturn\u001b[39;00m \u001b[38;5;28;43mself\u001b[39;49m\u001b[38;5;241;43m.\u001b[39;49m\u001b[43m_engine\u001b[49m\u001b[38;5;241;43m.\u001b[39;49m\u001b[43mget_loc\u001b[49m\u001b[43m(\u001b[49m\u001b[43mcasted_key\u001b[49m\u001b[43m)\u001b[49m\n\u001b[0;32m   3622\u001b[0m \u001b[38;5;28;01mexcept\u001b[39;00m \u001b[38;5;167;01mKeyError\u001b[39;00m \u001b[38;5;28;01mas\u001b[39;00m err:\n",
      "File \u001b[1;32m~\\anaconda3\\lib\\site-packages\\pandas\\_libs\\index.pyx:136\u001b[0m, in \u001b[0;36mpandas._libs.index.IndexEngine.get_loc\u001b[1;34m()\u001b[0m\n",
      "File \u001b[1;32m~\\anaconda3\\lib\\site-packages\\pandas\\_libs\\index.pyx:163\u001b[0m, in \u001b[0;36mpandas._libs.index.IndexEngine.get_loc\u001b[1;34m()\u001b[0m\n",
      "File \u001b[1;32mpandas\\_libs\\hashtable_class_helper.pxi:5198\u001b[0m, in \u001b[0;36mpandas._libs.hashtable.PyObjectHashTable.get_item\u001b[1;34m()\u001b[0m\n",
      "File \u001b[1;32mpandas\\_libs\\hashtable_class_helper.pxi:5206\u001b[0m, in \u001b[0;36mpandas._libs.hashtable.PyObjectHashTable.get_item\u001b[1;34m()\u001b[0m\n",
      "\u001b[1;31mKeyError\u001b[0m: 'Sell'",
      "\nThe above exception was the direct cause of the following exception:\n",
      "\u001b[1;31mKeyError\u001b[0m                                  Traceback (most recent call last)",
      "Input \u001b[1;32mIn [23]\u001b[0m, in \u001b[0;36m<cell line: 1>\u001b[1;34m()\u001b[0m\n\u001b[1;32m----> 1\u001b[0m \u001b[43mdata\u001b[49m\u001b[43m[\u001b[49m\u001b[43mdata\u001b[49m\u001b[43m[\u001b[49m\u001b[38;5;124;43m'\u001b[39;49m\u001b[38;5;124;43mSellPrice\u001b[39;49m\u001b[38;5;124;43m'\u001b[39;49m\u001b[43m]\u001b[49m\u001b[38;5;241;43m==\u001b[39;49m\u001b[38;5;124;43m\"\u001b[39;49m\u001b[38;5;124;43mNan\u001b[39;49m\u001b[38;5;124;43m\"\u001b[39;49m\u001b[43m]\u001b[49m\u001b[43m[\u001b[49m\u001b[38;5;124;43m'\u001b[39;49m\u001b[38;5;124;43mSell\u001b[39;49m\u001b[38;5;124;43m'\u001b[39;49m\u001b[43m]\u001b[49m\n",
      "File \u001b[1;32m~\\anaconda3\\lib\\site-packages\\pandas\\core\\frame.py:3505\u001b[0m, in \u001b[0;36mDataFrame.__getitem__\u001b[1;34m(self, key)\u001b[0m\n\u001b[0;32m   3503\u001b[0m \u001b[38;5;28;01mif\u001b[39;00m \u001b[38;5;28mself\u001b[39m\u001b[38;5;241m.\u001b[39mcolumns\u001b[38;5;241m.\u001b[39mnlevels \u001b[38;5;241m>\u001b[39m \u001b[38;5;241m1\u001b[39m:\n\u001b[0;32m   3504\u001b[0m     \u001b[38;5;28;01mreturn\u001b[39;00m \u001b[38;5;28mself\u001b[39m\u001b[38;5;241m.\u001b[39m_getitem_multilevel(key)\n\u001b[1;32m-> 3505\u001b[0m indexer \u001b[38;5;241m=\u001b[39m \u001b[38;5;28;43mself\u001b[39;49m\u001b[38;5;241;43m.\u001b[39;49m\u001b[43mcolumns\u001b[49m\u001b[38;5;241;43m.\u001b[39;49m\u001b[43mget_loc\u001b[49m\u001b[43m(\u001b[49m\u001b[43mkey\u001b[49m\u001b[43m)\u001b[49m\n\u001b[0;32m   3506\u001b[0m \u001b[38;5;28;01mif\u001b[39;00m is_integer(indexer):\n\u001b[0;32m   3507\u001b[0m     indexer \u001b[38;5;241m=\u001b[39m [indexer]\n",
      "File \u001b[1;32m~\\anaconda3\\lib\\site-packages\\pandas\\core\\indexes\\base.py:3623\u001b[0m, in \u001b[0;36mIndex.get_loc\u001b[1;34m(self, key, method, tolerance)\u001b[0m\n\u001b[0;32m   3621\u001b[0m     \u001b[38;5;28;01mreturn\u001b[39;00m \u001b[38;5;28mself\u001b[39m\u001b[38;5;241m.\u001b[39m_engine\u001b[38;5;241m.\u001b[39mget_loc(casted_key)\n\u001b[0;32m   3622\u001b[0m \u001b[38;5;28;01mexcept\u001b[39;00m \u001b[38;5;167;01mKeyError\u001b[39;00m \u001b[38;5;28;01mas\u001b[39;00m err:\n\u001b[1;32m-> 3623\u001b[0m     \u001b[38;5;28;01mraise\u001b[39;00m \u001b[38;5;167;01mKeyError\u001b[39;00m(key) \u001b[38;5;28;01mfrom\u001b[39;00m \u001b[38;5;21;01merr\u001b[39;00m\n\u001b[0;32m   3624\u001b[0m \u001b[38;5;28;01mexcept\u001b[39;00m \u001b[38;5;167;01mTypeError\u001b[39;00m:\n\u001b[0;32m   3625\u001b[0m     \u001b[38;5;66;03m# If we have a listlike key, _check_indexing_error will raise\u001b[39;00m\n\u001b[0;32m   3626\u001b[0m     \u001b[38;5;66;03m#  InvalidIndexError. Otherwise we fall through and re-raise\u001b[39;00m\n\u001b[0;32m   3627\u001b[0m     \u001b[38;5;66;03m#  the TypeError.\u001b[39;00m\n\u001b[0;32m   3628\u001b[0m     \u001b[38;5;28mself\u001b[39m\u001b[38;5;241m.\u001b[39m_check_indexing_error(key)\n",
      "\u001b[1;31mKeyError\u001b[0m: 'Sell'"
     ]
    }
   ],
   "source": [
    "data[data['SellPrice']==\"Nan\"]['Sell']"
   ]
  },
  {
   "cell_type": "code",
   "execution_count": 24,
   "id": "4987d37d",
   "metadata": {},
   "outputs": [],
   "source": [
    "data=data[data['SellPrice']!='Nan']"
   ]
  },
  {
   "cell_type": "code",
   "execution_count": 25,
   "id": "02e9464f",
   "metadata": {},
   "outputs": [
    {
     "data": {
      "text/plain": [
       "(29575, 9)"
      ]
     },
     "execution_count": 25,
     "metadata": {},
     "output_type": "execute_result"
    }
   ],
   "source": [
    "data.shape"
   ]
  },
  {
   "cell_type": "code",
   "execution_count": 26,
   "id": "61726179",
   "metadata": {},
   "outputs": [
    {
     "data": {
      "text/plain": [
       "array(['849', '2449', '599', ..., '9290', '3502', '643'], dtype=object)"
      ]
     },
     "execution_count": 26,
     "metadata": {},
     "output_type": "execute_result"
    }
   ],
   "source": [
    "data['SellPrice'].unique()"
   ]
  },
  {
   "cell_type": "code",
   "execution_count": 27,
   "id": "f98a6c5f",
   "metadata": {},
   "outputs": [],
   "source": [
    "data['SellPrice']=data['SellPrice'].astype('int64')"
   ]
  },
  {
   "cell_type": "code",
   "execution_count": 28,
   "id": "62ac198d",
   "metadata": {},
   "outputs": [
    {
     "data": {
      "text/plain": [
       "dtype('int64')"
      ]
     },
     "execution_count": 28,
     "metadata": {},
     "output_type": "execute_result"
    }
   ],
   "source": [
    "data.SellPrice.dtype"
   ]
  },
  {
   "cell_type": "markdown",
   "id": "a67efb11",
   "metadata": {},
   "source": [
    "## Crearting Profit Column"
   ]
  },
  {
   "cell_type": "code",
   "execution_count": 29,
   "id": "a9d19e6a",
   "metadata": {},
   "outputs": [],
   "source": [
    "data['Profit']=data['SellPrice']*(1-(data[\"Disc\"]/100))-data['MRP']"
   ]
  },
  {
   "cell_type": "code",
   "execution_count": 30,
   "id": "c2df0add",
   "metadata": {},
   "outputs": [
    {
     "data": {
      "text/html": [
       "<div>\n",
       "<style scoped>\n",
       "    .dataframe tbody tr th:only-of-type {\n",
       "        vertical-align: middle;\n",
       "    }\n",
       "\n",
       "    .dataframe tbody tr th {\n",
       "        vertical-align: top;\n",
       "    }\n",
       "\n",
       "    .dataframe thead th {\n",
       "        text-align: right;\n",
       "    }\n",
       "</style>\n",
       "<table border=\"1\" class=\"dataframe\">\n",
       "  <thead>\n",
       "    <tr style=\"text-align: right;\">\n",
       "      <th></th>\n",
       "      <th>Unnamed: 0</th>\n",
       "      <th>BrandName</th>\n",
       "      <th>Deatils</th>\n",
       "      <th>Sizes</th>\n",
       "      <th>MRP</th>\n",
       "      <th>SellPrice</th>\n",
       "      <th>Discount</th>\n",
       "      <th>Category</th>\n",
       "      <th>Disc</th>\n",
       "      <th>Profit</th>\n",
       "    </tr>\n",
       "  </thead>\n",
       "  <tbody>\n",
       "    <tr>\n",
       "      <th>0</th>\n",
       "      <td>0</td>\n",
       "      <td>life</td>\n",
       "      <td>solid cotton blend collar neck womens a-line d...</td>\n",
       "      <td>Size:Large,Medium,Small,X-Large,X-Small</td>\n",
       "      <td>699.0</td>\n",
       "      <td>849</td>\n",
       "      <td>50% off</td>\n",
       "      <td>Westernwear-Women</td>\n",
       "      <td>50</td>\n",
       "      <td>-274.5</td>\n",
       "    </tr>\n",
       "    <tr>\n",
       "      <th>1</th>\n",
       "      <td>1</td>\n",
       "      <td>only</td>\n",
       "      <td>polyester peter pan collar womens blouson dres...</td>\n",
       "      <td>Size:34,36,38,40</td>\n",
       "      <td>499.0</td>\n",
       "      <td>2449</td>\n",
       "      <td>30% off</td>\n",
       "      <td>Westernwear-Women</td>\n",
       "      <td>30</td>\n",
       "      <td>1215.3</td>\n",
       "    </tr>\n",
       "    <tr>\n",
       "      <th>2</th>\n",
       "      <td>2</td>\n",
       "      <td>fratini</td>\n",
       "      <td>solid polyester blend wide neck womens regular...</td>\n",
       "      <td>Size:Large,X-Large,XX-Large</td>\n",
       "      <td>199.0</td>\n",
       "      <td>599</td>\n",
       "      <td>50% off</td>\n",
       "      <td>Westernwear-Women</td>\n",
       "      <td>50</td>\n",
       "      <td>100.5</td>\n",
       "    </tr>\n",
       "    <tr>\n",
       "      <th>3</th>\n",
       "      <td>3</td>\n",
       "      <td>zink london</td>\n",
       "      <td>stripes polyester sweetheart neck womens dress...</td>\n",
       "      <td>Size:Large,Medium,Small,X-Large</td>\n",
       "      <td>299.0</td>\n",
       "      <td>1379</td>\n",
       "      <td>40% off</td>\n",
       "      <td>Westernwear-Women</td>\n",
       "      <td>40</td>\n",
       "      <td>528.4</td>\n",
       "    </tr>\n",
       "    <tr>\n",
       "      <th>4</th>\n",
       "      <td>4</td>\n",
       "      <td>life</td>\n",
       "      <td>regular fit regular length denim womens jeans ...</td>\n",
       "      <td>Size:26,28,30,32,34,36</td>\n",
       "      <td>699.0</td>\n",
       "      <td>849</td>\n",
       "      <td>50% off</td>\n",
       "      <td>Westernwear-Women</td>\n",
       "      <td>50</td>\n",
       "      <td>-274.5</td>\n",
       "    </tr>\n",
       "  </tbody>\n",
       "</table>\n",
       "</div>"
      ],
      "text/plain": [
       "   Unnamed: 0    BrandName                                            Deatils  \\\n",
       "0           0         life  solid cotton blend collar neck womens a-line d...   \n",
       "1           1         only  polyester peter pan collar womens blouson dres...   \n",
       "2           2      fratini  solid polyester blend wide neck womens regular...   \n",
       "3           3  zink london  stripes polyester sweetheart neck womens dress...   \n",
       "4           4         life  regular fit regular length denim womens jeans ...   \n",
       "\n",
       "                                     Sizes    MRP  SellPrice Discount  \\\n",
       "0  Size:Large,Medium,Small,X-Large,X-Small  699.0        849  50% off   \n",
       "1                         Size:34,36,38,40  499.0       2449  30% off   \n",
       "2              Size:Large,X-Large,XX-Large  199.0        599  50% off   \n",
       "3          Size:Large,Medium,Small,X-Large  299.0       1379  40% off   \n",
       "4                   Size:26,28,30,32,34,36  699.0        849  50% off   \n",
       "\n",
       "            Category  Disc  Profit  \n",
       "0  Westernwear-Women    50  -274.5  \n",
       "1  Westernwear-Women    30  1215.3  \n",
       "2  Westernwear-Women    50   100.5  \n",
       "3  Westernwear-Women    40   528.4  \n",
       "4  Westernwear-Women    50  -274.5  "
      ]
     },
     "execution_count": 30,
     "metadata": {},
     "output_type": "execute_result"
    }
   ],
   "source": [
    "data.head()"
   ]
  },
  {
   "cell_type": "code",
   "execution_count": 32,
   "id": "7ec401d4",
   "metadata": {},
   "outputs": [
    {
     "data": {
      "text/plain": [
       "array(['life', 'only', 'fratini', 'zink london', 'kraus', 'rare',\n",
       "       'van heusen', 'stop', 'zink z', 'cover story', 'infuse',\n",
       "       'allen solly', 'altlife', 'madame', 'iti', 'levis', 'and',\n",
       "       'faballey', 'latin quarters', 'sera', 'adidas', 'pepe', 'indya',\n",
       "       'juniper', 'lovegen', 'vero moda', 'forever new', 'magre',\n",
       "       'insense', 'calvin klein underwear', 'reebok', 'marie claire',\n",
       "       'enamor', 'spykar', 'get wrapped', 'campus sutra', 'dolce crudo',\n",
       "       'emblaze', 'global desi', 'jealous 21', 'jockey', 'crimsoune club',\n",
       "       'haute curry', 'proline', 'puma', 'ivy', 'vh flex', 'myshka',\n",
       "       'femina flaunt', 'w', '109f', 'gipsy', 'samshek', 'is.u',\n",
       "       'miss chase', 'ira soleil', 'fila', 'kami kubi', 'travel blue',\n",
       "       'varanga', 'de moza', 'u.s. polo assn.', 'vip', 'janasya',\n",
       "       'skechers', 'lee cooper', 'aarke', 'kashish', 'pepe kids',\n",
       "       'kenneth cole', 'zingg', 'ayesha', 'elliza donatein', 'erotissch',\n",
       "       'biba', 'ed hardy', 'black panther', 'mystere paris',\n",
       "       'monte carlo', 'louis philippe', 'mimosa', 'hidesign', 'soie',\n",
       "       'sweet dreams', 'giordano', 'karrot', 'alcis', 'imara', 'charchit',\n",
       "       'athome', 'disha patani for glam lifestyle', 'allen solly tribe',\n",
       "       'ariana', 'lavie', 'rukootina', 'indian terrain', 'yuris', 'duke',\n",
       "       'high star', 'suti', 'fastrack', 'sanaa', 'ziyaa', 'mothercare',\n",
       "       'jack and jones', 'aurelia', 'shaya by caratlane', 'neerus',\n",
       "       'amukti', 'vastranand', 'varkala silk sarees', 'fusion beats',\n",
       "       'ritu kumar', 'emporio armani', 'gas', 'arteastri',\n",
       "       'back to earth', 'united colors of benetton', \"lil' star\",\n",
       "       'nachtmann', 'clovia', 'triumph', 'amante', 'nayomi',\n",
       "       'kaftan company', 'parfait', 'wacoal', 'groversons paris beauty',\n",
       "       'sloggi', 'ultimo', 'recap', 'catwalk', 'inc.5', 'crocs',\n",
       "       'estatos', 'tresmode', 'lemon & pepper', 'shoetopia',\n",
       "       'new balance', 'solethreads', 'ceriz', 'modare', 'clarks',\n",
       "       'doubleu', 'guess', 'monrow', 'lazera shoes', 'flipside',\n",
       "       'von wellx', 'signature sole', 'havaianas', 'vento', 'sole head',\n",
       "       'titan', 'fastrack wearables', 'armani exchange', 'fossil',\n",
       "       'michael kors', 'casio', 'timex', 'anne klein', 'tommy hilfiger',\n",
       "       'daniel wellington', 'titan wearables', 'tissot', 'swiss eagle',\n",
       "       'amazfit', 'coach', 'skagen', 'esprit', 'helix', 'just cavalli',\n",
       "       'steve madden', 'ted baker', 'lamex', 'elle', 'versus', 'fjord',\n",
       "       'lawman watches', 'versace', 'citizen', 'olivia burton', 'xylys',\n",
       "       'strand by obaku', 'diesel', 'police', 'furla', 'zoop',\n",
       "       'alexandre christie', 'antonio banderas', 'dolce & gabbana',\n",
       "       'paco rabanne', 'carolina herrera', 'skinn', 'arcelia', 'gucci',\n",
       "       'burberry', 'yves saint laurent', 'jaguar', 'jean paul gaultier',\n",
       "       'elie saab', 'calvin klein', 'hugo boss', 'issey miyake', 'ajmal',\n",
       "       'thierry mugler', 'clinique', 'davidoff', 'mercedes benz',\n",
       "       'nina ricci', 'nike', 'yardley london', 'narciso rodriguez',\n",
       "       'moschino', 'giorgio armani', 'montblanc', 'embark', 'yves rocher',\n",
       "       'elizabeth arden', 'ferragamo', 'lanvin', 'clarins', 'aspen',\n",
       "       'jimmy choo', 'maryaj', 'abercrombie & fitch', 'trussardi',\n",
       "       'beverly hills polo club', 'miu miu', 'evaflor', 'colour me',\n",
       "       'chopard', 'betty barclay', 'lacoste', 'superdry', 'kenzo',\n",
       "       'estee lauder', 's.oliver', 'chloe', 'ralph lauren', 'marc jacobs',\n",
       "       '4711', 'plum', 'missoni', 'boucheron', 'ulric de varens',\n",
       "       'givenchy', 'v canto', 'all good scents', 'kama ayurveda',\n",
       "       'roberto cavalli', 'aigner', 'dkny', 'ungaro', '18.21 man made',\n",
       "       'e2o', 'pretty women', 'belleziya', 'estelle', 'jewelz', 'clara',\n",
       "       'giva', 'shaze', 'swarovski', 'mia', 'tribal zone', 'voylla',\n",
       "       'unknown by ayesha', 'real effect', 'stoln accessories',\n",
       "       'tribe amrapali', 'esves', 'the real effect london', 'accessorize'],\n",
       "      dtype=object)"
      ]
     },
     "execution_count": 32,
     "metadata": {},
     "output_type": "execute_result"
    }
   ],
   "source": [
    "data['BrandName'].unique()"
   ]
  },
  {
   "cell_type": "markdown",
   "id": "c46ec155",
   "metadata": {},
   "source": [
    "## understanding the data"
   ]
  },
  {
   "cell_type": "code",
   "execution_count": 34,
   "id": "9f07ba90",
   "metadata": {},
   "outputs": [
    {
     "name": "stderr",
     "output_type": "stream",
     "text": [
      "C:\\Users\\jangi\\AppData\\Local\\Temp\\ipykernel_22952\\312324571.py:1: FutureWarning: Indexing with multiple keys (implicitly converted to a tuple of keys) will be deprecated, use a list instead.\n",
      "  data.groupby('BrandName')['MRP','SellPrice','Profit'].max()\n"
     ]
    },
    {
     "data": {
      "text/html": [
       "<div>\n",
       "<style scoped>\n",
       "    .dataframe tbody tr th:only-of-type {\n",
       "        vertical-align: middle;\n",
       "    }\n",
       "\n",
       "    .dataframe tbody tr th {\n",
       "        vertical-align: top;\n",
       "    }\n",
       "\n",
       "    .dataframe thead th {\n",
       "        text-align: right;\n",
       "    }\n",
       "</style>\n",
       "<table border=\"1\" class=\"dataframe\">\n",
       "  <thead>\n",
       "    <tr style=\"text-align: right;\">\n",
       "      <th></th>\n",
       "      <th>MRP</th>\n",
       "      <th>SellPrice</th>\n",
       "      <th>Profit</th>\n",
       "    </tr>\n",
       "    <tr>\n",
       "      <th>BrandName</th>\n",
       "      <th></th>\n",
       "      <th></th>\n",
       "      <th></th>\n",
       "    </tr>\n",
       "  </thead>\n",
       "  <tbody>\n",
       "    <tr>\n",
       "      <th>109f</th>\n",
       "      <td>999.000000</td>\n",
       "      <td>2599</td>\n",
       "      <td>2034.985882</td>\n",
       "    </tr>\n",
       "    <tr>\n",
       "      <th>18.21 man made</th>\n",
       "      <td>564.014118</td>\n",
       "      <td>5500</td>\n",
       "      <td>4935.985882</td>\n",
       "    </tr>\n",
       "    <tr>\n",
       "      <th>4711</th>\n",
       "      <td>900.000000</td>\n",
       "      <td>3120</td>\n",
       "      <td>1596.000000</td>\n",
       "    </tr>\n",
       "    <tr>\n",
       "      <th>aarke</th>\n",
       "      <td>900.000000</td>\n",
       "      <td>5900</td>\n",
       "      <td>5335.985882</td>\n",
       "    </tr>\n",
       "    <tr>\n",
       "      <th>abercrombie &amp; fitch</th>\n",
       "      <td>900.000000</td>\n",
       "      <td>5700</td>\n",
       "      <td>5135.985882</td>\n",
       "    </tr>\n",
       "    <tr>\n",
       "      <th>...</th>\n",
       "      <td>...</td>\n",
       "      <td>...</td>\n",
       "      <td>...</td>\n",
       "    </tr>\n",
       "    <tr>\n",
       "      <th>zingg</th>\n",
       "      <td>564.014118</td>\n",
       "      <td>299</td>\n",
       "      <td>-265.014118</td>\n",
       "    </tr>\n",
       "    <tr>\n",
       "      <th>zink london</th>\n",
       "      <td>999.000000</td>\n",
       "      <td>2399</td>\n",
       "      <td>1172.200000</td>\n",
       "    </tr>\n",
       "    <tr>\n",
       "      <th>zink z</th>\n",
       "      <td>564.014118</td>\n",
       "      <td>2799</td>\n",
       "      <td>2234.985882</td>\n",
       "    </tr>\n",
       "    <tr>\n",
       "      <th>ziyaa</th>\n",
       "      <td>997.000000</td>\n",
       "      <td>2550</td>\n",
       "      <td>960.200000</td>\n",
       "    </tr>\n",
       "    <tr>\n",
       "      <th>zoop</th>\n",
       "      <td>564.014118</td>\n",
       "      <td>995</td>\n",
       "      <td>430.985882</td>\n",
       "    </tr>\n",
       "  </tbody>\n",
       "</table>\n",
       "<p>274 rows × 3 columns</p>\n",
       "</div>"
      ],
      "text/plain": [
       "                            MRP  SellPrice       Profit\n",
       "BrandName                                              \n",
       "109f                 999.000000       2599  2034.985882\n",
       "18.21 man made       564.014118       5500  4935.985882\n",
       "4711                 900.000000       3120  1596.000000\n",
       "aarke                900.000000       5900  5335.985882\n",
       "abercrombie & fitch  900.000000       5700  5135.985882\n",
       "...                         ...        ...          ...\n",
       "zingg                564.014118        299  -265.014118\n",
       "zink london          999.000000       2399  1172.200000\n",
       "zink z               564.014118       2799  2234.985882\n",
       "ziyaa                997.000000       2550   960.200000\n",
       "zoop                 564.014118        995   430.985882\n",
       "\n",
       "[274 rows x 3 columns]"
      ]
     },
     "execution_count": 34,
     "metadata": {},
     "output_type": "execute_result"
    }
   ],
   "source": [
    "data.groupby('BrandName')['MRP','SellPrice','Profit'].max()"
   ]
  },
  {
   "cell_type": "code",
   "execution_count": 35,
   "id": "70910260",
   "metadata": {},
   "outputs": [
    {
     "data": {
      "text/html": [
       "<div>\n",
       "<style scoped>\n",
       "    .dataframe tbody tr th:only-of-type {\n",
       "        vertical-align: middle;\n",
       "    }\n",
       "\n",
       "    .dataframe tbody tr th {\n",
       "        vertical-align: top;\n",
       "    }\n",
       "\n",
       "    .dataframe thead th {\n",
       "        text-align: right;\n",
       "    }\n",
       "</style>\n",
       "<table border=\"1\" class=\"dataframe\">\n",
       "  <thead>\n",
       "    <tr style=\"text-align: right;\">\n",
       "      <th></th>\n",
       "      <th>Unnamed: 0</th>\n",
       "      <th>BrandName</th>\n",
       "      <th>Deatils</th>\n",
       "      <th>Sizes</th>\n",
       "      <th>MRP</th>\n",
       "      <th>SellPrice</th>\n",
       "      <th>Discount</th>\n",
       "      <th>Category</th>\n",
       "      <th>Disc</th>\n",
       "      <th>Profit</th>\n",
       "    </tr>\n",
       "  </thead>\n",
       "  <tbody>\n",
       "    <tr>\n",
       "      <th>0</th>\n",
       "      <td>0</td>\n",
       "      <td>life</td>\n",
       "      <td>solid cotton blend collar neck womens a-line d...</td>\n",
       "      <td>Size:Large,Medium,Small,X-Large,X-Small</td>\n",
       "      <td>699.0</td>\n",
       "      <td>849</td>\n",
       "      <td>50% off</td>\n",
       "      <td>Westernwear-Women</td>\n",
       "      <td>50</td>\n",
       "      <td>-274.5</td>\n",
       "    </tr>\n",
       "    <tr>\n",
       "      <th>1</th>\n",
       "      <td>1</td>\n",
       "      <td>only</td>\n",
       "      <td>polyester peter pan collar womens blouson dres...</td>\n",
       "      <td>Size:34,36,38,40</td>\n",
       "      <td>499.0</td>\n",
       "      <td>2449</td>\n",
       "      <td>30% off</td>\n",
       "      <td>Westernwear-Women</td>\n",
       "      <td>30</td>\n",
       "      <td>1215.3</td>\n",
       "    </tr>\n",
       "    <tr>\n",
       "      <th>2</th>\n",
       "      <td>2</td>\n",
       "      <td>fratini</td>\n",
       "      <td>solid polyester blend wide neck womens regular...</td>\n",
       "      <td>Size:Large,X-Large,XX-Large</td>\n",
       "      <td>199.0</td>\n",
       "      <td>599</td>\n",
       "      <td>50% off</td>\n",
       "      <td>Westernwear-Women</td>\n",
       "      <td>50</td>\n",
       "      <td>100.5</td>\n",
       "    </tr>\n",
       "    <tr>\n",
       "      <th>3</th>\n",
       "      <td>3</td>\n",
       "      <td>zink london</td>\n",
       "      <td>stripes polyester sweetheart neck womens dress...</td>\n",
       "      <td>Size:Large,Medium,Small,X-Large</td>\n",
       "      <td>299.0</td>\n",
       "      <td>1379</td>\n",
       "      <td>40% off</td>\n",
       "      <td>Westernwear-Women</td>\n",
       "      <td>40</td>\n",
       "      <td>528.4</td>\n",
       "    </tr>\n",
       "    <tr>\n",
       "      <th>4</th>\n",
       "      <td>4</td>\n",
       "      <td>life</td>\n",
       "      <td>regular fit regular length denim womens jeans ...</td>\n",
       "      <td>Size:26,28,30,32,34,36</td>\n",
       "      <td>699.0</td>\n",
       "      <td>849</td>\n",
       "      <td>50% off</td>\n",
       "      <td>Westernwear-Women</td>\n",
       "      <td>50</td>\n",
       "      <td>-274.5</td>\n",
       "    </tr>\n",
       "  </tbody>\n",
       "</table>\n",
       "</div>"
      ],
      "text/plain": [
       "   Unnamed: 0    BrandName                                            Deatils  \\\n",
       "0           0         life  solid cotton blend collar neck womens a-line d...   \n",
       "1           1         only  polyester peter pan collar womens blouson dres...   \n",
       "2           2      fratini  solid polyester blend wide neck womens regular...   \n",
       "3           3  zink london  stripes polyester sweetheart neck womens dress...   \n",
       "4           4         life  regular fit regular length denim womens jeans ...   \n",
       "\n",
       "                                     Sizes    MRP  SellPrice Discount  \\\n",
       "0  Size:Large,Medium,Small,X-Large,X-Small  699.0        849  50% off   \n",
       "1                         Size:34,36,38,40  499.0       2449  30% off   \n",
       "2              Size:Large,X-Large,XX-Large  199.0        599  50% off   \n",
       "3          Size:Large,Medium,Small,X-Large  299.0       1379  40% off   \n",
       "4                   Size:26,28,30,32,34,36  699.0        849  50% off   \n",
       "\n",
       "            Category  Disc  Profit  \n",
       "0  Westernwear-Women    50  -274.5  \n",
       "1  Westernwear-Women    30  1215.3  \n",
       "2  Westernwear-Women    50   100.5  \n",
       "3  Westernwear-Women    40   528.4  \n",
       "4  Westernwear-Women    50  -274.5  "
      ]
     },
     "execution_count": 35,
     "metadata": {},
     "output_type": "execute_result"
    }
   ],
   "source": [
    "data.head()"
   ]
  },
  {
   "cell_type": "code",
   "execution_count": 36,
   "id": "4b40b9ae",
   "metadata": {},
   "outputs": [
    {
     "data": {
      "text/plain": [
       "array(['Westernwear-Women', 'Indianwear-Women',\n",
       "       'Lingerie&Nightwear-Women', 'Footwear-Women', 'Watches-Women',\n",
       "       'Fragrance-Women', 'Jewellery-Women'], dtype=object)"
      ]
     },
     "execution_count": 36,
     "metadata": {},
     "output_type": "execute_result"
    }
   ],
   "source": [
    "data.Category.unique()"
   ]
  },
  {
   "cell_type": "code",
   "execution_count": 42,
   "id": "2770e174",
   "metadata": {},
   "outputs": [
    {
     "name": "stdout",
     "output_type": "stream",
     "text": [
      "                              MRP  SellPrice   Profit\n",
      "Category                                             \n",
      "Footwear-Women             572.42    2194.03  1216.24\n",
      "Fragrance-Women            536.30    3972.07  3203.87\n",
      "Indianwear-Women           562.19    1484.11   374.77\n",
      "Jewellery-Women            458.25    2163.71  1448.75\n",
      "Lingerie&Nightwear-Women   385.78     917.84   352.18\n",
      "Watches-Women             1227.93    8657.29  6338.58\n",
      "Westernwear-Women          526.17    1317.86   420.34\n"
     ]
    },
    {
     "name": "stderr",
     "output_type": "stream",
     "text": [
      "C:\\Users\\jangi\\AppData\\Local\\Temp\\ipykernel_22952\\2154610736.py:1: FutureWarning: Indexing with multiple keys (implicitly converted to a tuple of keys) will be deprecated, use a list instead.\n",
      "  db=data.groupby('Category')['MRP','SellPrice','Profit'].mean()\n"
     ]
    }
   ],
   "source": [
    "db=data.groupby('Category')['MRP','SellPrice','Profit'].mean()\n",
    "print(db.round(2))"
   ]
  },
  {
   "cell_type": "code",
   "execution_count": 49,
   "id": "cabc4787",
   "metadata": {},
   "outputs": [
    {
     "data": {
      "image/png": "[encoded data removed]",
      "text/plain": [
       "<Figure size 432x288 with 1 Axes>"
      ]
     },
     "metadata": {
      "needs_background": "light"
     },
     "output_type": "display_data"
    }
   ],
   "source": [
    "plt.plot(db['MRP'],'r',label='MRP')\n",
    "plt.plot(db['SellPrice'],'g',label=\"SellPrice\")\n",
    "plt.plot(db['Profit'],'b',label='Profit')\n",
    "plt.grid()\n",
    "plt.show()"
   ]
  },
  {
   "cell_type": "code",
   "execution_count": null,
   "id": "65e716d5",
   "metadata": {},
   "outputs": [],
   "source": []
  }
 ],
 "metadata": {
  "kernelspec": {
   "display_name": "Python 3 (ipykernel)",
   "language": "python",
   "name": "python3"
  },
  "language_info": {
   "codemirror_mode": {
    "name": "ipython",
    "version": 3
   },
   "file_extension": ".py",
   "mimetype": "text/x-python",
   "name": "python",
   "nbconvert_exporter": "python",
   "pygments_lexer": "ipython3",
   "version": "3.9.12"
  }
 },
 "nbformat": 4,
 "nbformat_minor": 5
}
